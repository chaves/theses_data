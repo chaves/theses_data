{
 "cells": [
  {
   "cell_type": "code",
   "execution_count": 1,
   "metadata": {
    "collapsed": true
   },
   "outputs": [],
   "source": [
    "import pandas as pd\n",
    "import re"
   ]
  },
  {
   "cell_type": "code",
   "execution_count": 2,
   "outputs": [],
   "source": [
    "df = pd.read_pickle('theses_fr_dataframe_complet.pickle')"
   ],
   "metadata": {
    "collapsed": false,
    "pycharm": {
     "name": "#%%\n"
    }
   }
  },
  {
   "cell_type": "code",
   "execution_count": 3,
   "outputs": [
    {
     "data": {
      "text/plain": "             url            auteur  \\\n0  /fr/260632449        Morad Bali   \n1  /fr/260391751      Tiantian Ren   \n2  /fr/260349410  Celia Ruiz Mejia   \n3  /fr/260339571   François Souty   \n4  /fr/260271233         Anca Voia   \n\n                                               titre  \\\n0  Impact économique des sanctions pour l'UE et l...   \n1  Multi-time and multi-moment rating and portfol...   \n2     Essays in Urban, Labor and Transport Economics   \n3  Modélisation de l'évolution des surfaces agric...   \n4  Efficacité et ciblage optimal des paiements po...   \n\n                                              divers  \\\n0  Morad Bali|Fanny Coulomb|Éric Brunat|Natalia B...   \n1  Tiantian Ren|Kristiaan Kerstens|Zhongbao Zhou|...   \n2           Celia Ruiz Mejia|Marc Ivaldi|Toulouse 1|   \n3  François Souty|Philippe Ciais|Jean-Charles Ho...   \n4  Anca Voia|Céline Nauges|Sylvain Chabé-Ferret|T...   \n\n                       matiere                date_raw  \n0         Sciences économiques  Soutenue le 26-02-2021  \n1         Sciences économiques  Soutenue le 15-11-2021  \n2         Sciences économiques  Soutenue le 06-12-2021  \n3  Sciences de l'Environnement  Soutenue le 10-07-2013  \n4         Sciences économiques  Soutenue le 23-11-2021  ",
      "text/html": "<div>\n<style scoped>\n    .dataframe tbody tr th:only-of-type {\n        vertical-align: middle;\n    }\n\n    .dataframe tbody tr th {\n        vertical-align: top;\n    }\n\n    .dataframe thead th {\n        text-align: right;\n    }\n</style>\n<table border=\"1\" class=\"dataframe\">\n  <thead>\n    <tr style=\"text-align: right;\">\n      <th></th>\n      <th>url</th>\n      <th>auteur</th>\n      <th>titre</th>\n      <th>divers</th>\n      <th>matiere</th>\n      <th>date_raw</th>\n    </tr>\n  </thead>\n  <tbody>\n    <tr>\n      <th>0</th>\n      <td>/fr/260632449</td>\n      <td>Morad Bali</td>\n      <td>Impact économique des sanctions pour l'UE et l...</td>\n      <td>Morad Bali|Fanny Coulomb|Éric Brunat|Natalia B...</td>\n      <td>Sciences économiques</td>\n      <td>Soutenue le 26-02-2021</td>\n    </tr>\n    <tr>\n      <th>1</th>\n      <td>/fr/260391751</td>\n      <td>Tiantian Ren</td>\n      <td>Multi-time and multi-moment rating and portfol...</td>\n      <td>Tiantian Ren|Kristiaan Kerstens|Zhongbao Zhou|...</td>\n      <td>Sciences économiques</td>\n      <td>Soutenue le 15-11-2021</td>\n    </tr>\n    <tr>\n      <th>2</th>\n      <td>/fr/260349410</td>\n      <td>Celia Ruiz Mejia</td>\n      <td>Essays in Urban, Labor and Transport Economics</td>\n      <td>Celia Ruiz Mejia|Marc Ivaldi|Toulouse 1|</td>\n      <td>Sciences économiques</td>\n      <td>Soutenue le 06-12-2021</td>\n    </tr>\n    <tr>\n      <th>3</th>\n      <td>/fr/260339571</td>\n      <td>François Souty</td>\n      <td>Modélisation de l'évolution des surfaces agric...</td>\n      <td>François Souty|Philippe Ciais|Jean-Charles Ho...</td>\n      <td>Sciences de l'Environnement</td>\n      <td>Soutenue le 10-07-2013</td>\n    </tr>\n    <tr>\n      <th>4</th>\n      <td>/fr/260271233</td>\n      <td>Anca Voia</td>\n      <td>Efficacité et ciblage optimal des paiements po...</td>\n      <td>Anca Voia|Céline Nauges|Sylvain Chabé-Ferret|T...</td>\n      <td>Sciences économiques</td>\n      <td>Soutenue le 23-11-2021</td>\n    </tr>\n  </tbody>\n</table>\n</div>"
     },
     "execution_count": 3,
     "metadata": {},
     "output_type": "execute_result"
    }
   ],
   "source": [
    "df.head()"
   ],
   "metadata": {
    "collapsed": false,
    "pycharm": {
     "name": "#%%\n"
    }
   }
  },
  {
   "cell_type": "code",
   "execution_count": 4,
   "outputs": [
    {
     "data": {
      "text/plain": "Sciences économiques                                         8441\nSciences de gestion                                           576\nÉconomie                                                      376\nSciences economiques                                          186\nAnalyse et politique économiques                              170\n                                                             ... \nEtudes environnementales                                        1\nSciences économiques. Économie rurale agro-alimentaire          1\nLettreset sciences humaines                                     1\nSciences économiques. Economie régionale et environnement       1\nSystème agraire et développement                                1\nName: matiere, Length: 714, dtype: int64"
     },
     "execution_count": 4,
     "metadata": {},
     "output_type": "execute_result"
    }
   ],
   "source": [
    "df.matiere.value_counts()"
   ],
   "metadata": {
    "collapsed": false,
    "pycharm": {
     "name": "#%%\n"
    }
   }
  },
  {
   "cell_type": "code",
   "execution_count": 5,
   "outputs": [
    {
     "data": {
      "text/plain": "Soutenue en 2000          468\nSoutenue en 1997          400\nSoutenue en 2001          379\nSoutenue en 2003          370\nSoutenue en 2008          366\n                         ... \nSoutenue le 23-01-2018      1\nSoutenue le 14-05-2018      1\nSoutenue le 01-09-2016      1\nSoutenue le 04-11-2019      1\nSoutenue le 14-06-2021      1\nName: date_raw, Length: 1767, dtype: int64"
     },
     "execution_count": 5,
     "metadata": {},
     "output_type": "execute_result"
    }
   ],
   "source": [
    "df.date_raw.value_counts()"
   ],
   "metadata": {
    "collapsed": false,
    "pycharm": {
     "name": "#%%\n"
    }
   }
  },
  {
   "cell_type": "code",
   "execution_count": 6,
   "outputs": [],
   "source": [
    "df.date_raw.value_counts().to_frame().to_excel('dates.xlsx')"
   ],
   "metadata": {
    "collapsed": false,
    "pycharm": {
     "name": "#%%\n"
    }
   }
  },
  {
   "cell_type": "code",
   "execution_count": 7,
   "outputs": [
    {
     "data": {
      "text/plain": "12798"
     },
     "execution_count": 7,
     "metadata": {},
     "output_type": "execute_result"
    }
   ],
   "source": [
    "len(df)"
   ],
   "metadata": {
    "collapsed": false,
    "pycharm": {
     "name": "#%%\n"
    }
   }
  },
  {
   "cell_type": "code",
   "execution_count": 8,
   "outputs": [],
   "source": [
    "df = df[~df.date_raw.str.contains('En préparation')]"
   ],
   "metadata": {
    "collapsed": false,
    "pycharm": {
     "name": "#%%\n"
    }
   }
  },
  {
   "cell_type": "code",
   "execution_count": 9,
   "outputs": [
    {
     "data": {
      "text/plain": "12795"
     },
     "execution_count": 9,
     "metadata": {},
     "output_type": "execute_result"
    }
   ],
   "source": [
    "len(df)"
   ],
   "metadata": {
    "collapsed": false,
    "pycharm": {
     "name": "#%%\n"
    }
   }
  },
  {
   "cell_type": "code",
   "execution_count": 13,
   "outputs": [],
   "source": [
    "def extract_year(text):\n",
    "    try:\n",
    "        result = re.search(\"(\\d{4})\", text).group(1)\n",
    "    except:\n",
    "        result = 0\n",
    "    return int(result)"
   ],
   "metadata": {
    "collapsed": false,
    "pycharm": {
     "name": "#%%\n"
    }
   }
  },
  {
   "cell_type": "code",
   "execution_count": 14,
   "outputs": [],
   "source": [
    "df['annee'] = df.date_raw.apply(extract_year)"
   ],
   "metadata": {
    "collapsed": false,
    "pycharm": {
     "name": "#%%\n"
    }
   }
  },
  {
   "cell_type": "code",
   "execution_count": 15,
   "outputs": [
    {
     "data": {
      "text/plain": "             url            auteur  \\\n0  /fr/260632449        Morad Bali   \n1  /fr/260391751      Tiantian Ren   \n2  /fr/260349410  Celia Ruiz Mejia   \n3  /fr/260339571   François Souty   \n4  /fr/260271233         Anca Voia   \n\n                                               titre  \\\n0  Impact économique des sanctions pour l'UE et l...   \n1  Multi-time and multi-moment rating and portfol...   \n2     Essays in Urban, Labor and Transport Economics   \n3  Modélisation de l'évolution des surfaces agric...   \n4  Efficacité et ciblage optimal des paiements po...   \n\n                                              divers  \\\n0  Morad Bali|Fanny Coulomb|Éric Brunat|Natalia B...   \n1  Tiantian Ren|Kristiaan Kerstens|Zhongbao Zhou|...   \n2           Celia Ruiz Mejia|Marc Ivaldi|Toulouse 1|   \n3  François Souty|Philippe Ciais|Jean-Charles Ho...   \n4  Anca Voia|Céline Nauges|Sylvain Chabé-Ferret|T...   \n\n                       matiere                date_raw  annee  \n0         Sciences économiques  Soutenue le 26-02-2021   2021  \n1         Sciences économiques  Soutenue le 15-11-2021   2021  \n2         Sciences économiques  Soutenue le 06-12-2021   2021  \n3  Sciences de l'Environnement  Soutenue le 10-07-2013   2013  \n4         Sciences économiques  Soutenue le 23-11-2021   2021  ",
      "text/html": "<div>\n<style scoped>\n    .dataframe tbody tr th:only-of-type {\n        vertical-align: middle;\n    }\n\n    .dataframe tbody tr th {\n        vertical-align: top;\n    }\n\n    .dataframe thead th {\n        text-align: right;\n    }\n</style>\n<table border=\"1\" class=\"dataframe\">\n  <thead>\n    <tr style=\"text-align: right;\">\n      <th></th>\n      <th>url</th>\n      <th>auteur</th>\n      <th>titre</th>\n      <th>divers</th>\n      <th>matiere</th>\n      <th>date_raw</th>\n      <th>annee</th>\n    </tr>\n  </thead>\n  <tbody>\n    <tr>\n      <th>0</th>\n      <td>/fr/260632449</td>\n      <td>Morad Bali</td>\n      <td>Impact économique des sanctions pour l'UE et l...</td>\n      <td>Morad Bali|Fanny Coulomb|Éric Brunat|Natalia B...</td>\n      <td>Sciences économiques</td>\n      <td>Soutenue le 26-02-2021</td>\n      <td>2021</td>\n    </tr>\n    <tr>\n      <th>1</th>\n      <td>/fr/260391751</td>\n      <td>Tiantian Ren</td>\n      <td>Multi-time and multi-moment rating and portfol...</td>\n      <td>Tiantian Ren|Kristiaan Kerstens|Zhongbao Zhou|...</td>\n      <td>Sciences économiques</td>\n      <td>Soutenue le 15-11-2021</td>\n      <td>2021</td>\n    </tr>\n    <tr>\n      <th>2</th>\n      <td>/fr/260349410</td>\n      <td>Celia Ruiz Mejia</td>\n      <td>Essays in Urban, Labor and Transport Economics</td>\n      <td>Celia Ruiz Mejia|Marc Ivaldi|Toulouse 1|</td>\n      <td>Sciences économiques</td>\n      <td>Soutenue le 06-12-2021</td>\n      <td>2021</td>\n    </tr>\n    <tr>\n      <th>3</th>\n      <td>/fr/260339571</td>\n      <td>François Souty</td>\n      <td>Modélisation de l'évolution des surfaces agric...</td>\n      <td>François Souty|Philippe Ciais|Jean-Charles Ho...</td>\n      <td>Sciences de l'Environnement</td>\n      <td>Soutenue le 10-07-2013</td>\n      <td>2013</td>\n    </tr>\n    <tr>\n      <th>4</th>\n      <td>/fr/260271233</td>\n      <td>Anca Voia</td>\n      <td>Efficacité et ciblage optimal des paiements po...</td>\n      <td>Anca Voia|Céline Nauges|Sylvain Chabé-Ferret|T...</td>\n      <td>Sciences économiques</td>\n      <td>Soutenue le 23-11-2021</td>\n      <td>2021</td>\n    </tr>\n  </tbody>\n</table>\n</div>"
     },
     "execution_count": 15,
     "metadata": {},
     "output_type": "execute_result"
    }
   ],
   "source": [
    "df.head()"
   ],
   "metadata": {
    "collapsed": false,
    "pycharm": {
     "name": "#%%\n"
    }
   }
  },
  {
   "cell_type": "code",
   "execution_count": 16,
   "outputs": [
    {
     "data": {
      "text/plain": "2011    495\n2000    468\n2016    441\n2015    428\n2012    426\n2010    420\n2013    420\n2014    403\n2017    402\n1997    400\n2018    396\n2009    380\n2008    380\n2001    379\n2007    372\n2003    370\n2004    365\n1998    364\n2005    351\n2006    346\n2019    345\n2002    342\n1999    333\n1996    327\n1986    323\n1994    322\n1987    300\n2020    291\n1995    285\n1993    278\n1992    275\n1988    273\n1991    216\n1989    205\n1985    200\n1990    199\n2021    196\n0        78\n2022      1\nName: annee, dtype: int64"
     },
     "execution_count": 16,
     "metadata": {},
     "output_type": "execute_result"
    }
   ],
   "source": [
    "df.annee.value_counts()"
   ],
   "metadata": {
    "collapsed": false,
    "pycharm": {
     "name": "#%%\n"
    }
   }
  },
  {
   "cell_type": "code",
   "execution_count": 17,
   "outputs": [
    {
     "data": {
      "text/plain": "                url auteur titre divers matiere date_raw  annee\n1135  /fr/228272637                                           0\n1329  /fr/100576052                                           0\n1658  /fr/227601785                                           0\n1696  /fr/112933122                                           0\n1748  /fr/121137686                                           0",
      "text/html": "<div>\n<style scoped>\n    .dataframe tbody tr th:only-of-type {\n        vertical-align: middle;\n    }\n\n    .dataframe tbody tr th {\n        vertical-align: top;\n    }\n\n    .dataframe thead th {\n        text-align: right;\n    }\n</style>\n<table border=\"1\" class=\"dataframe\">\n  <thead>\n    <tr style=\"text-align: right;\">\n      <th></th>\n      <th>url</th>\n      <th>auteur</th>\n      <th>titre</th>\n      <th>divers</th>\n      <th>matiere</th>\n      <th>date_raw</th>\n      <th>annee</th>\n    </tr>\n  </thead>\n  <tbody>\n    <tr>\n      <th>1135</th>\n      <td>/fr/228272637</td>\n      <td></td>\n      <td></td>\n      <td></td>\n      <td></td>\n      <td></td>\n      <td>0</td>\n    </tr>\n    <tr>\n      <th>1329</th>\n      <td>/fr/100576052</td>\n      <td></td>\n      <td></td>\n      <td></td>\n      <td></td>\n      <td></td>\n      <td>0</td>\n    </tr>\n    <tr>\n      <th>1658</th>\n      <td>/fr/227601785</td>\n      <td></td>\n      <td></td>\n      <td></td>\n      <td></td>\n      <td></td>\n      <td>0</td>\n    </tr>\n    <tr>\n      <th>1696</th>\n      <td>/fr/112933122</td>\n      <td></td>\n      <td></td>\n      <td></td>\n      <td></td>\n      <td></td>\n      <td>0</td>\n    </tr>\n    <tr>\n      <th>1748</th>\n      <td>/fr/121137686</td>\n      <td></td>\n      <td></td>\n      <td></td>\n      <td></td>\n      <td></td>\n      <td>0</td>\n    </tr>\n  </tbody>\n</table>\n</div>"
     },
     "execution_count": 17,
     "metadata": {},
     "output_type": "execute_result"
    }
   ],
   "source": [
    "df[df.annee == 0].head()"
   ],
   "metadata": {
    "collapsed": false,
    "pycharm": {
     "name": "#%%\n"
    }
   }
  },
  {
   "cell_type": "code",
   "execution_count": 18,
   "outputs": [],
   "source": [
    "df = df[df['annee'] > 0]"
   ],
   "metadata": {
    "collapsed": false,
    "pycharm": {
     "name": "#%%\n"
    }
   }
  },
  {
   "cell_type": "code",
   "execution_count": 19,
   "outputs": [
    {
     "data": {
      "text/plain": "12717"
     },
     "execution_count": 19,
     "metadata": {},
     "output_type": "execute_result"
    }
   ],
   "source": [
    "len(df)"
   ],
   "metadata": {
    "collapsed": false,
    "pycharm": {
     "name": "#%%\n"
    }
   }
  },
  {
   "cell_type": "code",
   "execution_count": 21,
   "outputs": [
    {
     "data": {
      "text/plain": "2011    495\n2000    468\n2016    441\n2015    428\n2012    426\n2010    420\n2013    420\n2014    403\n2017    402\n1997    400\n2018    396\n2009    380\n2008    380\n2001    379\n2007    372\n2003    370\n2004    365\n1998    364\n2005    351\n2006    346\n2019    345\n2002    342\n1999    333\n1996    327\n1986    323\n1994    322\n1987    300\n2020    291\n1995    285\n1993    278\n1992    275\n1988    273\n1991    216\n1989    205\n1985    200\n1990    199\n2021    196\n2022      1\nName: annee, dtype: int64"
     },
     "execution_count": 21,
     "metadata": {},
     "output_type": "execute_result"
    }
   ],
   "source": [
    "df.annee.value_counts()"
   ],
   "metadata": {
    "collapsed": false,
    "pycharm": {
     "name": "#%%\n"
    }
   }
  },
  {
   "cell_type": "code",
   "execution_count": 22,
   "outputs": [],
   "source": [
    "df['intitution'] = df.divers.apply(lambda x: x.split('|')[-2] if len(x.split('|')) >= 2 else '')"
   ],
   "metadata": {
    "collapsed": false,
    "pycharm": {
     "name": "#%%\n"
    }
   }
  },
  {
   "cell_type": "code",
   "execution_count": 24,
   "outputs": [
    {
     "data": {
      "text/plain": "             url            auteur  \\\n0  /fr/260632449        Morad Bali   \n1  /fr/260391751      Tiantian Ren   \n2  /fr/260349410  Celia Ruiz Mejia   \n3  /fr/260339571   François Souty   \n4  /fr/260271233         Anca Voia   \n\n                                               titre  \\\n0  Impact économique des sanctions pour l'UE et l...   \n1  Multi-time and multi-moment rating and portfol...   \n2     Essays in Urban, Labor and Transport Economics   \n3  Modélisation de l'évolution des surfaces agric...   \n4  Efficacité et ciblage optimal des paiements po...   \n\n                                              divers  \\\n0  Morad Bali|Fanny Coulomb|Éric Brunat|Natalia B...   \n1  Tiantian Ren|Kristiaan Kerstens|Zhongbao Zhou|...   \n2           Celia Ruiz Mejia|Marc Ivaldi|Toulouse 1|   \n3  François Souty|Philippe Ciais|Jean-Charles Ho...   \n4  Anca Voia|Céline Nauges|Sylvain Chabé-Ferret|T...   \n\n                       matiere                date_raw  annee  \\\n0         Sciences économiques  Soutenue le 26-02-2021   2021   \n1         Sciences économiques  Soutenue le 15-11-2021   2021   \n2         Sciences économiques  Soutenue le 06-12-2021   2021   \n3  Sciences de l'Environnement  Soutenue le 10-07-2013   2013   \n4         Sciences économiques  Soutenue le 23-11-2021   2021   \n\n                  intitution  \n0  Université Grenoble Alpes  \n1                      Lille  \n2                 Toulouse 1  \n3       Paris, AgroParisTech  \n4                 Toulouse 1  ",
      "text/html": "<div>\n<style scoped>\n    .dataframe tbody tr th:only-of-type {\n        vertical-align: middle;\n    }\n\n    .dataframe tbody tr th {\n        vertical-align: top;\n    }\n\n    .dataframe thead th {\n        text-align: right;\n    }\n</style>\n<table border=\"1\" class=\"dataframe\">\n  <thead>\n    <tr style=\"text-align: right;\">\n      <th></th>\n      <th>url</th>\n      <th>auteur</th>\n      <th>titre</th>\n      <th>divers</th>\n      <th>matiere</th>\n      <th>date_raw</th>\n      <th>annee</th>\n      <th>intitution</th>\n    </tr>\n  </thead>\n  <tbody>\n    <tr>\n      <th>0</th>\n      <td>/fr/260632449</td>\n      <td>Morad Bali</td>\n      <td>Impact économique des sanctions pour l'UE et l...</td>\n      <td>Morad Bali|Fanny Coulomb|Éric Brunat|Natalia B...</td>\n      <td>Sciences économiques</td>\n      <td>Soutenue le 26-02-2021</td>\n      <td>2021</td>\n      <td>Université Grenoble Alpes</td>\n    </tr>\n    <tr>\n      <th>1</th>\n      <td>/fr/260391751</td>\n      <td>Tiantian Ren</td>\n      <td>Multi-time and multi-moment rating and portfol...</td>\n      <td>Tiantian Ren|Kristiaan Kerstens|Zhongbao Zhou|...</td>\n      <td>Sciences économiques</td>\n      <td>Soutenue le 15-11-2021</td>\n      <td>2021</td>\n      <td>Lille</td>\n    </tr>\n    <tr>\n      <th>2</th>\n      <td>/fr/260349410</td>\n      <td>Celia Ruiz Mejia</td>\n      <td>Essays in Urban, Labor and Transport Economics</td>\n      <td>Celia Ruiz Mejia|Marc Ivaldi|Toulouse 1|</td>\n      <td>Sciences économiques</td>\n      <td>Soutenue le 06-12-2021</td>\n      <td>2021</td>\n      <td>Toulouse 1</td>\n    </tr>\n    <tr>\n      <th>3</th>\n      <td>/fr/260339571</td>\n      <td>François Souty</td>\n      <td>Modélisation de l'évolution des surfaces agric...</td>\n      <td>François Souty|Philippe Ciais|Jean-Charles Ho...</td>\n      <td>Sciences de l'Environnement</td>\n      <td>Soutenue le 10-07-2013</td>\n      <td>2013</td>\n      <td>Paris, AgroParisTech</td>\n    </tr>\n    <tr>\n      <th>4</th>\n      <td>/fr/260271233</td>\n      <td>Anca Voia</td>\n      <td>Efficacité et ciblage optimal des paiements po...</td>\n      <td>Anca Voia|Céline Nauges|Sylvain Chabé-Ferret|T...</td>\n      <td>Sciences économiques</td>\n      <td>Soutenue le 23-11-2021</td>\n      <td>2021</td>\n      <td>Toulouse 1</td>\n    </tr>\n  </tbody>\n</table>\n</div>"
     },
     "execution_count": 24,
     "metadata": {},
     "output_type": "execute_result"
    }
   ],
   "source": [
    "df.head()"
   ],
   "metadata": {
    "collapsed": false,
    "pycharm": {
     "name": "#%%\n"
    }
   }
  },
  {
   "cell_type": "code",
   "execution_count": 25,
   "outputs": [
    {
     "data": {
      "text/plain": "Paris 1                            1354\nParis 10                            742\nParis, EHESS                        445\nMontpellier 1                       413\nToulouse 1                          377\n                                   ... \nParis Panthéon Sorbonne               1\nENSMP                                 1\nMontpellier SupAgro                   1\nParis, Ecole normale supérieure       1\nToulouse, ISAE                        1\nName: intitution, Length: 180, dtype: int64"
     },
     "execution_count": 25,
     "metadata": {},
     "output_type": "execute_result"
    }
   ],
   "source": [
    "df.intitution.value_counts()"
   ],
   "metadata": {
    "collapsed": false,
    "pycharm": {
     "name": "#%%\n"
    }
   }
  },
  {
   "cell_type": "code",
   "execution_count": 27,
   "outputs": [],
   "source": [
    "df_1990_2015 = df[(df.annee >= 1990) & (df.annee <= 2015)]"
   ],
   "metadata": {
    "collapsed": false,
    "pycharm": {
     "name": "#%%\n"
    }
   }
  },
  {
   "cell_type": "code",
   "execution_count": 28,
   "outputs": [
    {
     "data": {
      "text/plain": "9344"
     },
     "execution_count": 28,
     "metadata": {},
     "output_type": "execute_result"
    }
   ],
   "source": [
    "len(df_1990_2015)"
   ],
   "metadata": {
    "collapsed": false,
    "pycharm": {
     "name": "#%%\n"
    }
   }
  },
  {
   "cell_type": "code",
   "execution_count": 29,
   "outputs": [],
   "source": [
    "df_1990_2015.to_excel('theses_fr_eco_1990_2015.xlsx')"
   ],
   "metadata": {
    "collapsed": false,
    "pycharm": {
     "name": "#%%\n"
    }
   }
  },
  {
   "cell_type": "code",
   "execution_count": null,
   "outputs": [],
   "source": [],
   "metadata": {
    "collapsed": false,
    "pycharm": {
     "name": "#%%\n"
    }
   }
  }
 ],
 "metadata": {
  "kernelspec": {
   "name": "py310",
   "language": "python",
   "display_name": "py310"
  },
  "language_info": {
   "codemirror_mode": {
    "name": "ipython",
    "version": 2
   },
   "file_extension": ".py",
   "mimetype": "text/x-python",
   "name": "python",
   "nbconvert_exporter": "python",
   "pygments_lexer": "ipython2",
   "version": "2.7.6"
  }
 },
 "nbformat": 4,
 "nbformat_minor": 0
}