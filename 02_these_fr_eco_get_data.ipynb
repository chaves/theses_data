{
 "cells": [
  {
   "cell_type": "code",
   "execution_count": 30,
   "metadata": {
    "collapsed": true
   },
   "outputs": [],
   "source": [
    "from lxml import html\n",
    "import requests\n",
    "import time\n",
    "import pickle\n",
    "import pandas as pd\n",
    "from tqdm import tqdm"
   ]
  },
  {
   "cell_type": "code",
   "execution_count": 31,
   "outputs": [],
   "source": [
    "with open('pages_list.pickle', 'rb') as f:\n",
    "    pages = pickle.load(f)"
   ],
   "metadata": {
    "collapsed": false,
    "pycharm": {
     "name": "#%%\n"
    }
   }
  },
  {
   "cell_type": "code",
   "execution_count": 32,
   "outputs": [
    {
     "data": {
      "text/plain": "['/fr/260632449',\n '/fr/260391751',\n '/fr/260349410',\n '/fr/260339571',\n '/fr/260271233',\n '/fr/260023329',\n '/fr/260074829',\n '/fr/255518935',\n '/fr/257331638',\n '/fr/251039412']"
     },
     "execution_count": 32,
     "metadata": {},
     "output_type": "execute_result"
    }
   ],
   "source": [
    "pages[:10]"
   ],
   "metadata": {
    "collapsed": false,
    "pycharm": {
     "name": "#%%\n"
    }
   }
  },
  {
   "cell_type": "code",
   "execution_count": 33,
   "outputs": [
    {
     "data": {
      "text/plain": "12893"
     },
     "execution_count": 33,
     "metadata": {},
     "output_type": "execute_result"
    }
   ],
   "source": [
    "len(pages)"
   ],
   "metadata": {
    "collapsed": false,
    "pycharm": {
     "name": "#%%\n"
    }
   }
  },
  {
   "cell_type": "code",
   "execution_count": 34,
   "outputs": [],
   "source": [
    "# pages_encours = pages[:500]"
   ],
   "metadata": {
    "collapsed": false,
    "pycharm": {
     "name": "#%%\n"
    }
   }
  },
  {
   "cell_type": "code",
   "execution_count": 35,
   "outputs": [],
   "source": [
    "BASE_URL = 'https://www.theses.fr'"
   ],
   "metadata": {
    "collapsed": false,
    "pycharm": {
     "name": "#%%\n"
    }
   }
  },
  {
   "cell_type": "code",
   "execution_count": 36,
   "outputs": [],
   "source": [
    "def get_data(url):\n",
    "    response = requests.get(BASE_URL + url)\n",
    "    xml = html.document_fromstring(response.content)\n",
    "    try:\n",
    "        auteur = xml.xpath('//h1')[0].text.strip()\n",
    "        titre = xml.xpath('//div[@class=\"informations\"]/h2/a')[0].text.strip()\n",
    "        divers = xml.xpath('//div[@class=\"informations\"]/p/a')\n",
    "        divers = ''.join([d.text.strip() + '|' for d in divers])\n",
    "        domaine = xml.xpath('//div[@class=\"domaine\"]/h5')\n",
    "        matiere = domaine[0].text.strip()\n",
    "        date_raw = domaine[1].text.strip()\n",
    "        return {'url': url, 'auteur': auteur, 'titre': titre, 'divers': divers, 'matiere': matiere, 'date_raw': date_raw}\n",
    "    except:\n",
    "        return {'url': url, 'auteur': '', 'titre': '', 'divers': '', 'matiere': '', 'date_raw': ''}"
   ],
   "metadata": {
    "collapsed": false,
    "pycharm": {
     "name": "#%%\n"
    }
   }
  },
  {
   "cell_type": "code",
   "execution_count": 37,
   "outputs": [],
   "source": [
    "df_source = pd.read_pickle('theses_fr_dataframe.pickle')"
   ],
   "metadata": {
    "collapsed": false,
    "pycharm": {
     "name": "#%%\n"
    }
   }
  },
  {
   "cell_type": "code",
   "execution_count": 38,
   "outputs": [
    {
     "data": {
      "text/plain": "             url            auteur  \\\n0  /fr/260632449        Morad Bali   \n1  /fr/260391751      Tiantian Ren   \n2  /fr/260349410  Celia Ruiz Mejia   \n3  /fr/260339571   François Souty   \n4  /fr/260271233         Anca Voia   \n\n                                               titre  \\\n0  Impact économique des sanctions pour l'UE et l...   \n1  Multi-time and multi-moment rating and portfol...   \n2     Essays in Urban, Labor and Transport Economics   \n3  Modélisation de l'évolution des surfaces agric...   \n4  Efficacité et ciblage optimal des paiements po...   \n\n                                              divers  \\\n0  Morad Bali|Fanny Coulomb|Éric Brunat|Natalia B...   \n1  Tiantian Ren|Kristiaan Kerstens|Zhongbao Zhou|...   \n2           Celia Ruiz Mejia|Marc Ivaldi|Toulouse 1|   \n3  François Souty|Philippe Ciais|Jean-Charles Ho...   \n4  Anca Voia|Céline Nauges|Sylvain Chabé-Ferret|T...   \n\n                       matiere                date_raw  \n0         Sciences économiques  Soutenue le 26-02-2021  \n1         Sciences économiques  Soutenue le 15-11-2021  \n2         Sciences économiques  Soutenue le 06-12-2021  \n3  Sciences de l'Environnement  Soutenue le 10-07-2013  \n4         Sciences économiques  Soutenue le 23-11-2021  ",
      "text/html": "<div>\n<style scoped>\n    .dataframe tbody tr th:only-of-type {\n        vertical-align: middle;\n    }\n\n    .dataframe tbody tr th {\n        vertical-align: top;\n    }\n\n    .dataframe thead th {\n        text-align: right;\n    }\n</style>\n<table border=\"1\" class=\"dataframe\">\n  <thead>\n    <tr style=\"text-align: right;\">\n      <th></th>\n      <th>url</th>\n      <th>auteur</th>\n      <th>titre</th>\n      <th>divers</th>\n      <th>matiere</th>\n      <th>date_raw</th>\n    </tr>\n  </thead>\n  <tbody>\n    <tr>\n      <th>0</th>\n      <td>/fr/260632449</td>\n      <td>Morad Bali</td>\n      <td>Impact économique des sanctions pour l'UE et l...</td>\n      <td>Morad Bali|Fanny Coulomb|Éric Brunat|Natalia B...</td>\n      <td>Sciences économiques</td>\n      <td>Soutenue le 26-02-2021</td>\n    </tr>\n    <tr>\n      <th>1</th>\n      <td>/fr/260391751</td>\n      <td>Tiantian Ren</td>\n      <td>Multi-time and multi-moment rating and portfol...</td>\n      <td>Tiantian Ren|Kristiaan Kerstens|Zhongbao Zhou|...</td>\n      <td>Sciences économiques</td>\n      <td>Soutenue le 15-11-2021</td>\n    </tr>\n    <tr>\n      <th>2</th>\n      <td>/fr/260349410</td>\n      <td>Celia Ruiz Mejia</td>\n      <td>Essays in Urban, Labor and Transport Economics</td>\n      <td>Celia Ruiz Mejia|Marc Ivaldi|Toulouse 1|</td>\n      <td>Sciences économiques</td>\n      <td>Soutenue le 06-12-2021</td>\n    </tr>\n    <tr>\n      <th>3</th>\n      <td>/fr/260339571</td>\n      <td>François Souty</td>\n      <td>Modélisation de l'évolution des surfaces agric...</td>\n      <td>François Souty|Philippe Ciais|Jean-Charles Ho...</td>\n      <td>Sciences de l'Environnement</td>\n      <td>Soutenue le 10-07-2013</td>\n    </tr>\n    <tr>\n      <th>4</th>\n      <td>/fr/260271233</td>\n      <td>Anca Voia</td>\n      <td>Efficacité et ciblage optimal des paiements po...</td>\n      <td>Anca Voia|Céline Nauges|Sylvain Chabé-Ferret|T...</td>\n      <td>Sciences économiques</td>\n      <td>Soutenue le 23-11-2021</td>\n    </tr>\n  </tbody>\n</table>\n</div>"
     },
     "execution_count": 38,
     "metadata": {},
     "output_type": "execute_result"
    }
   ],
   "source": [
    "df_source.head()"
   ],
   "metadata": {
    "collapsed": false,
    "pycharm": {
     "name": "#%%\n"
    }
   }
  },
  {
   "cell_type": "code",
   "execution_count": 39,
   "outputs": [
    {
     "data": {
      "text/plain": "5699"
     },
     "execution_count": 39,
     "metadata": {},
     "output_type": "execute_result"
    }
   ],
   "source": [
    "len(df_source)"
   ],
   "metadata": {
    "collapsed": false,
    "pycharm": {
     "name": "#%%\n"
    }
   }
  },
  {
   "cell_type": "code",
   "execution_count": 40,
   "outputs": [],
   "source": [
    "pages_done = list(df_source.url)"
   ],
   "metadata": {
    "collapsed": false,
    "pycharm": {
     "name": "#%%\n"
    }
   }
  },
  {
   "cell_type": "code",
   "execution_count": 41,
   "outputs": [],
   "source": [
    "pages_to_todo = [page for page in pages if page not in pages_done]"
   ],
   "metadata": {
    "collapsed": false,
    "pycharm": {
     "name": "#%%\n"
    }
   }
  },
  {
   "cell_type": "code",
   "execution_count": 42,
   "outputs": [
    {
     "data": {
      "text/plain": "7194"
     },
     "execution_count": 42,
     "metadata": {},
     "output_type": "execute_result"
    }
   ],
   "source": [
    "len(pages_to_todo)"
   ],
   "metadata": {
    "collapsed": false,
    "pycharm": {
     "name": "#%%\n"
    }
   }
  },
  {
   "cell_type": "code",
   "execution_count": 43,
   "outputs": [
    {
     "data": {
      "text/plain": "12893"
     },
     "execution_count": 43,
     "metadata": {},
     "output_type": "execute_result"
    }
   ],
   "source": [
    "7194+5699"
   ],
   "metadata": {
    "collapsed": false,
    "pycharm": {
     "name": "#%%\n"
    }
   }
  },
  {
   "cell_type": "code",
   "execution_count": 44,
   "outputs": [],
   "source": [
    "data= list()\n",
    "index = 1"
   ],
   "metadata": {
    "collapsed": false,
    "pycharm": {
     "name": "#%%\n"
    }
   }
  },
  {
   "cell_type": "code",
   "execution_count": 45,
   "outputs": [
    {
     "name": "stderr",
     "output_type": "stream",
     "text": [
      "100%|██████████| 7194/7194 [4:20:54<00:00,  2.18s/it]  \n"
     ]
    }
   ],
   "source": [
    "for page in tqdm(pages_to_todo):\n",
    "    data.append(get_data(page))\n",
    "    time.sleep(2)\n",
    "    index += 1\n",
    "    if index % 100 == 0:\n",
    "        df = pd.DataFrame(data)\n",
    "        df.to_pickle('theses_fr_dataframe_new.pickle')"
   ],
   "metadata": {
    "collapsed": false,
    "pycharm": {
     "name": "#%%\n"
    }
   }
  },
  {
   "cell_type": "code",
   "execution_count": 46,
   "outputs": [
    {
     "data": {
      "text/plain": "             url             auteur  \\\n0  /fr/035776552     Muriel Nicolas   \n1  /fr/103107320         Alain Vial   \n2  /fr/236480758     Roberta Benini   \n3  /fr/075922339  Matthieu Hautière   \n4  /fr/075922827  Jean-Paul Décamps   \n\n                                               titre  \\\n0  La déréglementation du secteur électrique en E...   \n1  Devenir en milieu hydrique de trois composés o...   \n2  Le modèle de développement et la structuration...   \n3  Théorie des comportements et efficience inform...   \n4  Contributions à la modélisation du prix des ob...   \n\n                                              divers  \\\n0       Muriel Nicolas|Jean-Marie Chevalier|Paris 9|   \n1            Alain Vial|André Rambaud|Montpellier 1|   \n2           Roberta Benini|Philippe Aydalot|Paris 1|   \n3    Matthieu Hautière|Jean-Paul Décamps|Toulouse 1|   \n4  Jean-Paul Décamps|Jean-Charles Rochet|Toulouse...   \n\n                                             matiere          date_raw  \n0                               Sciences économiques  Soutenue en 1998  \n1  Hydrologie. Hygiène et environnement. Droit et...  Soutenue en 1989  \n2                               Sciences économiques  Soutenue en 1986  \n3                               Sciences économiques  Soutenue en 2003  \n4                               Sciences économiques  Soutenue en 1993  ",
      "text/html": "<div>\n<style scoped>\n    .dataframe tbody tr th:only-of-type {\n        vertical-align: middle;\n    }\n\n    .dataframe tbody tr th {\n        vertical-align: top;\n    }\n\n    .dataframe thead th {\n        text-align: right;\n    }\n</style>\n<table border=\"1\" class=\"dataframe\">\n  <thead>\n    <tr style=\"text-align: right;\">\n      <th></th>\n      <th>url</th>\n      <th>auteur</th>\n      <th>titre</th>\n      <th>divers</th>\n      <th>matiere</th>\n      <th>date_raw</th>\n    </tr>\n  </thead>\n  <tbody>\n    <tr>\n      <th>0</th>\n      <td>/fr/035776552</td>\n      <td>Muriel Nicolas</td>\n      <td>La déréglementation du secteur électrique en E...</td>\n      <td>Muriel Nicolas|Jean-Marie Chevalier|Paris 9|</td>\n      <td>Sciences économiques</td>\n      <td>Soutenue en 1998</td>\n    </tr>\n    <tr>\n      <th>1</th>\n      <td>/fr/103107320</td>\n      <td>Alain Vial</td>\n      <td>Devenir en milieu hydrique de trois composés o...</td>\n      <td>Alain Vial|André Rambaud|Montpellier 1|</td>\n      <td>Hydrologie. Hygiène et environnement. Droit et...</td>\n      <td>Soutenue en 1989</td>\n    </tr>\n    <tr>\n      <th>2</th>\n      <td>/fr/236480758</td>\n      <td>Roberta Benini</td>\n      <td>Le modèle de développement et la structuration...</td>\n      <td>Roberta Benini|Philippe Aydalot|Paris 1|</td>\n      <td>Sciences économiques</td>\n      <td>Soutenue en 1986</td>\n    </tr>\n    <tr>\n      <th>3</th>\n      <td>/fr/075922339</td>\n      <td>Matthieu Hautière</td>\n      <td>Théorie des comportements et efficience inform...</td>\n      <td>Matthieu Hautière|Jean-Paul Décamps|Toulouse 1|</td>\n      <td>Sciences économiques</td>\n      <td>Soutenue en 2003</td>\n    </tr>\n    <tr>\n      <th>4</th>\n      <td>/fr/075922827</td>\n      <td>Jean-Paul Décamps</td>\n      <td>Contributions à la modélisation du prix des ob...</td>\n      <td>Jean-Paul Décamps|Jean-Charles Rochet|Toulouse...</td>\n      <td>Sciences économiques</td>\n      <td>Soutenue en 1993</td>\n    </tr>\n  </tbody>\n</table>\n</div>"
     },
     "execution_count": 46,
     "metadata": {},
     "output_type": "execute_result"
    }
   ],
   "source": [
    "df.head()"
   ],
   "metadata": {
    "collapsed": false,
    "pycharm": {
     "name": "#%%\n"
    }
   }
  },
  {
   "cell_type": "code",
   "execution_count": 48,
   "outputs": [
    {
     "data": {
      "text/plain": "7099"
     },
     "execution_count": 48,
     "metadata": {},
     "output_type": "execute_result"
    }
   ],
   "source": [
    "len(df)"
   ],
   "metadata": {
    "collapsed": false,
    "pycharm": {
     "name": "#%%\n"
    }
   }
  },
  {
   "cell_type": "code",
   "execution_count": null,
   "outputs": [],
   "source": [
    "data"
   ],
   "metadata": {
    "collapsed": false,
    "pycharm": {
     "name": "#%%\n"
    }
   }
  },
  {
   "cell_type": "code",
   "execution_count": 58,
   "outputs": [
    {
     "data": {
      "text/plain": "             url             auteur  \\\n0  /fr/035776552     Muriel Nicolas   \n1  /fr/103107320         Alain Vial   \n2  /fr/236480758     Roberta Benini   \n3  /fr/075922339  Matthieu Hautière   \n4  /fr/075922827  Jean-Paul Décamps   \n\n                                               titre  \\\n0  La déréglementation du secteur électrique en E...   \n1  Devenir en milieu hydrique de trois composés o...   \n2  Le modèle de développement et la structuration...   \n3  Théorie des comportements et efficience inform...   \n4  Contributions à la modélisation du prix des ob...   \n\n                                              divers  \\\n0       Muriel Nicolas|Jean-Marie Chevalier|Paris 9|   \n1            Alain Vial|André Rambaud|Montpellier 1|   \n2           Roberta Benini|Philippe Aydalot|Paris 1|   \n3    Matthieu Hautière|Jean-Paul Décamps|Toulouse 1|   \n4  Jean-Paul Décamps|Jean-Charles Rochet|Toulouse...   \n\n                                             matiere          date_raw  \n0                               Sciences économiques  Soutenue en 1998  \n1  Hydrologie. Hygiène et environnement. Droit et...  Soutenue en 1989  \n2                               Sciences économiques  Soutenue en 1986  \n3                               Sciences économiques  Soutenue en 2003  \n4                               Sciences économiques  Soutenue en 1993  ",
      "text/html": "<div>\n<style scoped>\n    .dataframe tbody tr th:only-of-type {\n        vertical-align: middle;\n    }\n\n    .dataframe tbody tr th {\n        vertical-align: top;\n    }\n\n    .dataframe thead th {\n        text-align: right;\n    }\n</style>\n<table border=\"1\" class=\"dataframe\">\n  <thead>\n    <tr style=\"text-align: right;\">\n      <th></th>\n      <th>url</th>\n      <th>auteur</th>\n      <th>titre</th>\n      <th>divers</th>\n      <th>matiere</th>\n      <th>date_raw</th>\n    </tr>\n  </thead>\n  <tbody>\n    <tr>\n      <th>0</th>\n      <td>/fr/035776552</td>\n      <td>Muriel Nicolas</td>\n      <td>La déréglementation du secteur électrique en E...</td>\n      <td>Muriel Nicolas|Jean-Marie Chevalier|Paris 9|</td>\n      <td>Sciences économiques</td>\n      <td>Soutenue en 1998</td>\n    </tr>\n    <tr>\n      <th>1</th>\n      <td>/fr/103107320</td>\n      <td>Alain Vial</td>\n      <td>Devenir en milieu hydrique de trois composés o...</td>\n      <td>Alain Vial|André Rambaud|Montpellier 1|</td>\n      <td>Hydrologie. Hygiène et environnement. Droit et...</td>\n      <td>Soutenue en 1989</td>\n    </tr>\n    <tr>\n      <th>2</th>\n      <td>/fr/236480758</td>\n      <td>Roberta Benini</td>\n      <td>Le modèle de développement et la structuration...</td>\n      <td>Roberta Benini|Philippe Aydalot|Paris 1|</td>\n      <td>Sciences économiques</td>\n      <td>Soutenue en 1986</td>\n    </tr>\n    <tr>\n      <th>3</th>\n      <td>/fr/075922339</td>\n      <td>Matthieu Hautière</td>\n      <td>Théorie des comportements et efficience inform...</td>\n      <td>Matthieu Hautière|Jean-Paul Décamps|Toulouse 1|</td>\n      <td>Sciences économiques</td>\n      <td>Soutenue en 2003</td>\n    </tr>\n    <tr>\n      <th>4</th>\n      <td>/fr/075922827</td>\n      <td>Jean-Paul Décamps</td>\n      <td>Contributions à la modélisation du prix des ob...</td>\n      <td>Jean-Paul Décamps|Jean-Charles Rochet|Toulouse...</td>\n      <td>Sciences économiques</td>\n      <td>Soutenue en 1993</td>\n    </tr>\n  </tbody>\n</table>\n</div>"
     },
     "execution_count": 58,
     "metadata": {},
     "output_type": "execute_result"
    }
   ],
   "source": [
    "df.head()"
   ],
   "metadata": {
    "collapsed": false,
    "pycharm": {
     "name": "#%%\n"
    }
   }
  },
  {
   "cell_type": "code",
   "execution_count": 54,
   "outputs": [],
   "source": [
    "df_out = df_source.append(df,ignore_index=True)"
   ],
   "metadata": {
    "collapsed": false,
    "pycharm": {
     "name": "#%%\n"
    }
   }
  },
  {
   "cell_type": "code",
   "execution_count": 55,
   "outputs": [
    {
     "data": {
      "text/plain": "12798"
     },
     "execution_count": 55,
     "metadata": {},
     "output_type": "execute_result"
    }
   ],
   "source": [
    "len(df_out)"
   ],
   "metadata": {
    "collapsed": false,
    "pycharm": {
     "name": "#%%\n"
    }
   }
  },
  {
   "cell_type": "code",
   "execution_count": 59,
   "outputs": [
    {
     "data": {
      "text/plain": "             url            auteur  \\\n0  /fr/260632449        Morad Bali   \n1  /fr/260391751      Tiantian Ren   \n2  /fr/260349410  Celia Ruiz Mejia   \n3  /fr/260339571   François Souty   \n4  /fr/260271233         Anca Voia   \n\n                                               titre  \\\n0  Impact économique des sanctions pour l'UE et l...   \n1  Multi-time and multi-moment rating and portfol...   \n2     Essays in Urban, Labor and Transport Economics   \n3  Modélisation de l'évolution des surfaces agric...   \n4  Efficacité et ciblage optimal des paiements po...   \n\n                                              divers  \\\n0  Morad Bali|Fanny Coulomb|Éric Brunat|Natalia B...   \n1  Tiantian Ren|Kristiaan Kerstens|Zhongbao Zhou|...   \n2           Celia Ruiz Mejia|Marc Ivaldi|Toulouse 1|   \n3  François Souty|Philippe Ciais|Jean-Charles Ho...   \n4  Anca Voia|Céline Nauges|Sylvain Chabé-Ferret|T...   \n\n                       matiere                date_raw  \n0         Sciences économiques  Soutenue le 26-02-2021  \n1         Sciences économiques  Soutenue le 15-11-2021  \n2         Sciences économiques  Soutenue le 06-12-2021  \n3  Sciences de l'Environnement  Soutenue le 10-07-2013  \n4         Sciences économiques  Soutenue le 23-11-2021  ",
      "text/html": "<div>\n<style scoped>\n    .dataframe tbody tr th:only-of-type {\n        vertical-align: middle;\n    }\n\n    .dataframe tbody tr th {\n        vertical-align: top;\n    }\n\n    .dataframe thead th {\n        text-align: right;\n    }\n</style>\n<table border=\"1\" class=\"dataframe\">\n  <thead>\n    <tr style=\"text-align: right;\">\n      <th></th>\n      <th>url</th>\n      <th>auteur</th>\n      <th>titre</th>\n      <th>divers</th>\n      <th>matiere</th>\n      <th>date_raw</th>\n    </tr>\n  </thead>\n  <tbody>\n    <tr>\n      <th>0</th>\n      <td>/fr/260632449</td>\n      <td>Morad Bali</td>\n      <td>Impact économique des sanctions pour l'UE et l...</td>\n      <td>Morad Bali|Fanny Coulomb|Éric Brunat|Natalia B...</td>\n      <td>Sciences économiques</td>\n      <td>Soutenue le 26-02-2021</td>\n    </tr>\n    <tr>\n      <th>1</th>\n      <td>/fr/260391751</td>\n      <td>Tiantian Ren</td>\n      <td>Multi-time and multi-moment rating and portfol...</td>\n      <td>Tiantian Ren|Kristiaan Kerstens|Zhongbao Zhou|...</td>\n      <td>Sciences économiques</td>\n      <td>Soutenue le 15-11-2021</td>\n    </tr>\n    <tr>\n      <th>2</th>\n      <td>/fr/260349410</td>\n      <td>Celia Ruiz Mejia</td>\n      <td>Essays in Urban, Labor and Transport Economics</td>\n      <td>Celia Ruiz Mejia|Marc Ivaldi|Toulouse 1|</td>\n      <td>Sciences économiques</td>\n      <td>Soutenue le 06-12-2021</td>\n    </tr>\n    <tr>\n      <th>3</th>\n      <td>/fr/260339571</td>\n      <td>François Souty</td>\n      <td>Modélisation de l'évolution des surfaces agric...</td>\n      <td>François Souty|Philippe Ciais|Jean-Charles Ho...</td>\n      <td>Sciences de l'Environnement</td>\n      <td>Soutenue le 10-07-2013</td>\n    </tr>\n    <tr>\n      <th>4</th>\n      <td>/fr/260271233</td>\n      <td>Anca Voia</td>\n      <td>Efficacité et ciblage optimal des paiements po...</td>\n      <td>Anca Voia|Céline Nauges|Sylvain Chabé-Ferret|T...</td>\n      <td>Sciences économiques</td>\n      <td>Soutenue le 23-11-2021</td>\n    </tr>\n  </tbody>\n</table>\n</div>"
     },
     "execution_count": 59,
     "metadata": {},
     "output_type": "execute_result"
    }
   ],
   "source": [
    "df_out.head()"
   ],
   "metadata": {
    "collapsed": false,
    "pycharm": {
     "name": "#%%\n"
    }
   }
  },
  {
   "cell_type": "code",
   "execution_count": 60,
   "outputs": [],
   "source": [
    "df_out.to_pickle('theses_fr_dataframe_complet.pickle')"
   ],
   "metadata": {
    "collapsed": false,
    "pycharm": {
     "name": "#%%\n"
    }
   }
  },
  {
   "cell_type": "code",
   "execution_count": null,
   "outputs": [],
   "source": [],
   "metadata": {
    "collapsed": false,
    "pycharm": {
     "name": "#%%\n"
    }
   }
  }
 ],
 "metadata": {
  "kernelspec": {
   "name": "py310",
   "language": "python",
   "display_name": "py310"
  },
  "language_info": {
   "codemirror_mode": {
    "name": "ipython",
    "version": 2
   },
   "file_extension": ".py",
   "mimetype": "text/x-python",
   "name": "python",
   "nbconvert_exporter": "python",
   "pygments_lexer": "ipython2",
   "version": "2.7.6"
  }
 },
 "nbformat": 4,
 "nbformat_minor": 0
}